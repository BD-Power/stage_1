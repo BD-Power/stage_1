{
 "cells": [
  {
   "metadata": {
    "ExecuteTime": {
     "end_time": "2025-10-04T11:38:50.087953Z",
     "start_time": "2025-10-04T11:38:50.081014Z"
    }
   },
   "cell_type": "code",
   "source": [
    "import requests\n",
    "from pathlib import Path\n",
    "from datetime import datetime\n",
    "import time\n",
    "import csv\n",
    "import re, json\n",
    "from collections import defaultdict\n",
    "import matplotlib.pyplot as plt\n"
   ],
   "outputs": [],
   "execution_count": 33
  },
  {
   "metadata": {},
   "cell_type": "markdown",
   "source": "### Verify if the book is already downloaded"
  },
  {
   "cell_type": "code",
   "metadata": {
    "ExecuteTime": {
     "end_time": "2025-10-04T09:04:11.072794Z",
     "start_time": "2025-10-04T09:04:10.351042Z"
    }
   },
   "source": [
    "CTRL = Path(\"control\")\n",
    "CTRL.mkdir(exist_ok=True)\n",
    "\n",
    "LOG_CSV   = CTRL / \"control_log.csv\"\n",
    "DOWN_TXT  = CTRL / \"downloaded_books.txt\"\n",
    "\n",
    "START_MARKER = \"*** START OF THE PROJECT GUTENBERG EBOOK\"\n",
    "END_MARKER   = \"*** END OF THE PROJECT GUTENBERG EBOOK\"\n",
    "\n",
    "def already_downloaded(book_id: int) -> bool:\n",
    "    # \n",
    "    return DOWN_TXT.exists() and str(book_id) in DOWN_TXT.read_text(encoding=\"utf-8\").splitlines()\n",
    "\n",
    "def download_book(book_id: int, base: str = \"datalake\") -> tuple[Path, Path] | None:\n",
    "    if already_downloaded(book_id):\n",
    "        print(f\"[SKIP] {book_id} was already downloaded\")\n",
    "        return None\n",
    "    \n",
    "    now = datetime.now()\n",
    "    base_dir = Path(base) / now.strftime(\"%Y%m%d\") / now.strftime(\"%H\")\n",
    "    base_dir.mkdir(parents=True, exist_ok=True)\n",
    "\n",
    "    url = f\"https://www.gutenberg.org/cache/epub/{book_id}/pg{book_id}.txt\"\n",
    "    resp = requests.get(url, timeout=30)\n",
    "    resp.raise_for_status()\n",
    "    text = resp.text\n",
    "\n",
    "    if START_MARKER not in text or END_MARKER not in text:\n",
    "        print(f\"[ERROR] Marcadores no encontrados en el libro {book_id}\")\n",
    "        return None\n",
    "\n",
    "    header, body_and_footer = text.split(START_MARKER, 1)\n",
    "    body, _footer = body_and_footer.split(END_MARKER, 1)\n",
    "\n",
    "    header_path = base_dir / f\"{book_id}.header.txt\"\n",
    "    body_path   = base_dir / f\"{book_id}.body.txt\"\n",
    "\n",
    "    header_path.write_text(header.strip(), encoding=\"utf-8\")\n",
    "    body_path.write_text(body.strip(), encoding=\"utf-8\")\n",
    "\n",
    "    print(f\"[OK] {book_id} -> {header_path} / {body_path}\")\n",
    "    return header_path, body_path\n",
    "\n"
   ],
   "outputs": [],
   "execution_count": 2
  },
  {
   "cell_type": "code",
   "metadata": {
    "ExecuteTime": {
     "end_time": "2025-10-04T09:04:14.796721Z",
     "start_time": "2025-10-04T09:04:14.764474Z"
    }
   },
   "source": [
    "def register_in_control(book_id: int, header_path: Path, body_path: Path, state=\"OK\"):\n",
    "    if not LOG_CSV.exists():\n",
    "        with open(LOG_CSV, \"w\", newline=\"\", encoding=\"utf-8\") as f:\n",
    "            csv.writer(f).writerow([\"book_id\", \"date\", \"header_file\", \"body_file\", \"state\"])\n",
    "    with open(LOG_CSV, \"a\", newline=\"\", encoding=\"utf-8\") as f:\n",
    "        csv.writer(f).writerow([\n",
    "            book_id,\n",
    "            datetime.now().strftime(\"%Y-%m-%d %H:%M:%S\"),\n",
    "            str(header_path),\n",
    "            str(body_path),\n",
    "            state\n",
    "        ])\n",
    "\n",
    "    with open(DOWN_TXT, \"a\", encoding=\"utf-8\") as f:\n",
    "        f.write(f\"{book_id}\\n\")\n",
    "\n",
    "    print(f\"[CONTROL] Registrado {book_id} en control_log.csv y downloaded_books.txt\")\n",
    "\n"
   ],
   "outputs": [],
   "execution_count": 3
  },
  {
   "cell_type": "code",
   "metadata": {
    "ExecuteTime": {
     "end_time": "2025-10-04T09:04:24.029055Z",
     "start_time": "2025-10-04T09:04:19.349133Z"
    }
   },
   "source": [
    "def download_multiple(ids: list[int]):\n",
    "    for bid in ids:\n",
    "        if already_downloaded(bid):\n",
    "            print(f\"[SKIP] {bid} was already downloaded\")\n",
    "            continue\n",
    "        res = download_book(bid)  \n",
    "        if res:\n",
    "            header_path, body_path = res\n",
    "            register_in_control(bid, header_path, body_path)  \n",
    "\n",
    "\n",
    "download_multiple([1342, 11, 84])\n"
   ],
   "outputs": [
    {
     "name": "stdout",
     "output_type": "stream",
     "text": [
      "[OK] 1342 -> datalake\\20251004\\10\\1342.header.txt / datalake\\20251004\\10\\1342.body.txt\n",
      "[CONTROL] Registrado 1342 en control_log.csv y downloaded_books.txt\n",
      "[OK] 11 -> datalake\\20251004\\10\\11.header.txt / datalake\\20251004\\10\\11.body.txt\n",
      "[CONTROL] Registrado 11 en control_log.csv y downloaded_books.txt\n",
      "[OK] 84 -> datalake\\20251004\\10\\84.header.txt / datalake\\20251004\\10\\84.body.txt\n",
      "[CONTROL] Registrado 84 en control_log.csv y downloaded_books.txt\n"
     ]
    }
   ],
   "execution_count": 4
  },
  {
   "metadata": {},
   "cell_type": "markdown",
   "source": [
    "### Converting all the characters to a lowercase text, then we delete all the alphanumeric characters.\n",
    "    "
   ]
  },
  {
   "metadata": {},
   "cell_type": "code",
   "outputs": [],
   "execution_count": null,
   "source": [
    "DATALAKE_PATH = Path(\"datalake\")\n",
    "DATAMARTS_PATH = Path(\"datamarts\"); DATAMARTS_PATH.mkdir(exist_ok=True)\n",
    "\n",
    "def tokenize(text: str) -> list[str]:\n",
    "    text = text.lower()\n",
    "    words = re.findall(r'\\b\\w+\\b', text)\n",
    "    return words"
   ]
  },
  {
   "metadata": {},
   "cell_type": "markdown",
   "source": "### Strategy 1. Saving the data in datamarts/ as a JSON file"
  },
  {
   "cell_type": "code",
   "metadata": {
    "ExecuteTime": {
     "end_time": "2025-10-04T11:19:19.093051Z",
     "start_time": "2025-10-04T11:19:19.082470Z"
    }
   },
   "source": [
    "\n",
    "def build_inverted_index1() -> dict[str, set[int]]:\n",
    "    inverted_index = defaultdict(set)\n",
    "    for body_file in DATALAKE_PATH.rglob(\"*.body.txt\"):\n",
    "        book_id = int(body_file.stem.split(\".\")[0])   \n",
    "        text = body_file.read_text(encoding=\"utf-8\")\n",
    "        words = tokenize(text)\n",
    "        for word in words:\n",
    "            inverted_index[word].add(book_id)\n",
    "    return inverted_index\n",
    "\n",
    "\n",
    "def save_inverted_index(index: dict[str, set[int]]):\n",
    "    \n",
    "    json_path = DATAMARTS_PATH / \"inverted_index.json\"\n",
    "    serializable_index = {word: list(ids) for word, ids in index.items()}\n",
    "    with open(json_path, \"w\", encoding=\"utf-8\") as f:\n",
    "        json.dump(serializable_index, f, ensure_ascii=False, indent=2)\n",
    "    print(f\"[OK] Inverted index saved at {json_path}\")\n"
   ],
   "outputs": [],
   "execution_count": 11
  },
  {
   "metadata": {},
   "cell_type": "markdown",
   "source": "### strategy 2. Saving the data as a txt file"
  },
  {
   "metadata": {
    "ExecuteTime": {
     "end_time": "2025-10-04T11:19:21.690877Z",
     "start_time": "2025-10-04T11:19:21.683246Z"
    }
   },
   "cell_type": "code",
   "source": [
    "def build_inverted_index2() -> dict[str, set[int]]:\n",
    "    inverted_index = defaultdict(set)\n",
    "    for body_file in DATALAKE_PATH.rglob(\"*.body.txt\"):\n",
    "        book_id = int(body_file.stem.split(\".\")[0])   \n",
    "        text = body_file.read_text(encoding=\"utf-8\")\n",
    "        words = tokenize(text)\n",
    "        for word in words:\n",
    "            inverted_index[word].add(book_id)\n",
    "    return inverted_index\n",
    "\n",
    "def save_inverted_index_txt(index: dict[str, set[int]]):\n",
    "    txt_path = DATAMARTS_PATH / \"inverted_index.txt\"\n",
    "    with open(txt_path, \"w\", encoding=\"utf-8\") as f:\n",
    "        for word, ids in sorted(index.items()):\n",
    "            ids_str = \",\".join(map(str, sorted(ids)))\n",
    "            f.write(f\"{word}: {ids_str}\\n\")\n",
    "    print(f\"[OK] Inverted index saved at {txt_path}\")"
   ],
   "outputs": [],
   "execution_count": 12
  },
  {
   "metadata": {},
   "cell_type": "markdown",
   "source": "### Main execution with different types of strategies "
  },
  {
   "cell_type": "code",
   "metadata": {
    "ExecuteTime": {
     "end_time": "2025-10-04T11:51:58.072211Z",
     "start_time": "2025-10-04T11:51:57.511994Z"
    }
   },
   "source": [
    "if __name__ == \"__main__\":\n",
    "\n",
    "    book_ids = [43, 56]\n",
    "\n",
    "    for book_id in book_ids:\n",
    "        if already_downloaded(book_id):   \n",
    "            print(f\"[SKIP] {book_id} was already downloaded\")\n",
    "            continue\n",
    "\n",
    "        try:\n",
    "            res = download_book(book_id)\n",
    "            if res:\n",
    "                header_file, body_file = res\n",
    "                register_in_control(book_id, header_file, body_file)\n",
    "            else:\n",
    "                register_in_control(book_id, \"-\", \"-\", state=\"FAILED\")\n",
    "        except Exception as e:\n",
    "            print(f\"[ERROR] Failed downloading {book_id}: {e}\")\n",
    "            register_in_control(book_id, \"-\", \"-\", state=\"FAILED\")\n",
    "    word = \"love\"\n",
    "    start = time.time()\n",
    "    inverted_index_strategy1 = build_inverted_index1()\n",
    "    save_inverted_index(inverted_index_strategy1)\n",
    "    results = inverted_index_strategy1.get(word.lower(), set())\n",
    "    end = time.time()\n",
    "    result_strategy_1 = end - start\n",
    "    print(f\"Results for '{word}': {results}\")\n",
    "    print(\"[OK] Inverted index strategy 1\")\n",
    "    print(f\"Strategy 1 time '{result_strategy_1}'\")\n",
    "    \n",
    "    start2= time.time()\n",
    "    inverted_index_strategy2 = build_inverted_index2()\n",
    "    save_inverted_index_txt(inverted_index_strategy2)\n",
    "    txt_path = DATAMARTS_PATH / \"inverted_index.txt\"\n",
    "    results2 = set()\n",
    "    with open(txt_path, \"r\", encoding=\"utf-8\") as f:\n",
    "        for line in f:\n",
    "            if line.startswith(f\"{word.lower()}:\"):\n",
    "                ids_str = line.split(\":\")[1].strip()\n",
    "                results2 = set(map(int, ids_str.split(\",\"))) if ids_str else set()\n",
    "                break\n",
    "\n",
    "    print(f\"Results for '{word}' [txt search]: {results2}\")\n",
    "    end2 = time.time()\n",
    "    result_strategy_2 = end2 - start2\n",
    "    print(\"[OK] Inverted index strategy 2\")\n",
    "    print(f\"Strategy 2 time '{result_strategy_2}'\")\n",
    "\n",
    "    plt.bar([\"Json\", \"Txt\"] , [result_strategy_1, result_strategy_2], color=[\"blue\", \"red\"])\n",
    "    "
   ],
   "outputs": [
    {
     "name": "stdout",
     "output_type": "stream",
     "text": [
      "[SKIP] 43 was already downloaded\n",
      "[SKIP] 56 was already downloaded\n",
      "[OK] Inverted index saved at datamarts\\inverted_index.json\n",
      "Results for 'love': {43, 11, 84, 1342}\n",
      "[OK] Inverted index strategy 1\n",
      "Strategy 1 time '0.2082962989807129'\n",
      "[OK] Inverted index saved at datamarts\\inverted_index.txt\n",
      "Results for 'love' [txt search]: {43, 11, 84, 1342}\n",
      "[OK] Inverted index strategy 2\n",
      "Strategy 2 time '0.20665240287780762'\n"
     ]
    },
    {
     "data": {
      "text/plain": [
       "<Figure size 640x480 with 1 Axes>"
      ],
      "image/png": "[encoded data removed]"
     },
     "metadata": {},
     "output_type": "display_data"
    }
   ],
   "execution_count": 44
  }
 ],
 "metadata": {
  "kernelspec": {
   "display_name": "gabriel-env",
   "language": "python",
   "name": "python3"
  },
  "language_info": {
   "codemirror_mode": {
    "name": "ipython",
    "version": 3
   },
   "file_extension": ".py",
   "mimetype": "text/x-python",
   "name": "python",
   "nbconvert_exporter": "python",
   "pygments_lexer": "ipython3",
   "version": "3.13.2"
  }
 },
 "nbformat": 4,
 "nbformat_minor": 2
}
