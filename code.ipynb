{
 "cells": [
  {
   "cell_type": "code",
   "execution_count": 23,
   "metadata": {
    "ExecuteTime": {
     "end_time": "2025-10-04T11:38:50.087953Z",
     "start_time": "2025-10-04T11:38:50.081014Z"
    }
   },
   "outputs": [],
   "source": [
    "import requests\n",
    "from pathlib import Path\n",
    "from datetime import datetime\n",
    "import time\n",
    "import csv\n",
    "import re, json\n",
    "from collections import defaultdict\n",
    "import matplotlib.pyplot as plt\n",
    "import sys\n"
   ]
  },
  {
   "cell_type": "markdown",
   "metadata": {},
   "source": [
    "### Verify if the book is already downloaded"
   ]
  },
  {
   "cell_type": "code",
   "execution_count": 19,
   "metadata": {
    "ExecuteTime": {
     "end_time": "2025-10-04T09:04:11.072794Z",
     "start_time": "2025-10-04T09:04:10.351042Z"
    }
   },
   "outputs": [],
   "source": [
    "CTRL = Path(\"control\")\n",
    "CTRL.mkdir(exist_ok=True)\n",
    "\n",
    "LOG_CSV   = CTRL / \"control_log.csv\"\n",
    "DOWN_TXT  = CTRL / \"downloaded_books.txt\"\n",
    "\n",
    "START_MARKER = \"*** START OF THE PROJECT GUTENBERG EBOOK\"\n",
    "END_MARKER   = \"*** END OF THE PROJECT GUTENBERG EBOOK\"\n",
    "\n",
    "def already_downloaded(book_id: int) -> bool:\n",
    "    # \n",
    "    return DOWN_TXT.exists() and str(book_id) in DOWN_TXT.read_text(encoding=\"utf-8\").splitlines()\n",
    "\n",
    "def download_book(book_id: int, base: str = \"datalake\") -> tuple[Path, Path] | None:\n",
    "    if already_downloaded(book_id):\n",
    "        print(f\"[SKIP] {book_id} was already downloaded\")\n",
    "        return None\n",
    "    \n",
    "    now = datetime.now()\n",
    "    base_dir = Path(base) / now.strftime(\"%Y%m%d\") / now.strftime(\"%H\")\n",
    "    base_dir.mkdir(parents=True, exist_ok=True)\n",
    "\n",
    "    url = f\"https://www.gutenberg.org/cache/epub/{book_id}/pg{book_id}.txt\"\n",
    "    resp = requests.get(url, timeout=30)\n",
    "    resp.raise_for_status()\n",
    "    text = resp.text\n",
    "\n",
    "    if START_MARKER not in text or END_MARKER not in text:\n",
    "        print(f\"[ERROR] Marcadores no encontrados en el libro {book_id}\")\n",
    "        return None\n",
    "\n",
    "    header, body_and_footer = text.split(START_MARKER, 1)\n",
    "    body, _footer = body_and_footer.split(END_MARKER, 1)\n",
    "\n",
    "    header_path = base_dir / f\"{book_id}.header.txt\"\n",
    "    body_path   = base_dir / f\"{book_id}.body.txt\"\n",
    "\n",
    "    header_path.write_text(header.strip(), encoding=\"utf-8\")\n",
    "    body_path.write_text(body.strip(), encoding=\"utf-8\")\n",
    "\n",
    "    print(f\"[OK] {book_id} -> {header_path} / {body_path}\")\n",
    "    return header_path, body_path\n",
    "\n"
   ]
  },
  {
   "cell_type": "code",
   "execution_count": 3,
   "metadata": {},
   "outputs": [
    {
     "name": "stdout",
     "output_type": "stream",
     "text": [
      "[OK] 1342 -> datalake\\20251006\\15\\1342.header.txt / datalake\\20251006\\15\\1342.body.txt\n"
     ]
    },
    {
     "data": {
      "text/plain": [
       "(WindowsPath('datalake/20251006/15/1342.header.txt'),\n",
       " WindowsPath('datalake/20251006/15/1342.body.txt'))"
      ]
     },
     "execution_count": 3,
     "metadata": {},
     "output_type": "execute_result"
    }
   ],
   "source": [
    "# --- Prueba del datalake por fecha y hora ---\n",
    "download_book(1342)   # Pride and Prejudice by Jane Austen\n"
   ]
  },
  {
   "cell_type": "code",
   "execution_count": 9,
   "metadata": {},
   "outputs": [
    {
     "name": "stdout",
     "output_type": "stream",
     "text": [
      " Fecha: 20251006\n",
      "   Hora: 15\n",
      "     - 1342.body.txt\n",
      "     - 1342.header.txt\n",
      "     - 2701.body.txt\n",
      "     - 2701.header.txt\n",
      "     - 514.body.txt\n",
      "     - 514.header.txt\n"
     ]
    }
   ],
   "source": [
    "from pathlib import Path\n",
    "\n",
    "base = Path(\"datalake\")\n",
    "\n",
    "for date_folder in sorted(base.iterdir()):\n",
    "    if date_folder.is_dir():\n",
    "        print(f\" Fecha: {date_folder.name}\")\n",
    "        for hour_folder in sorted(date_folder.iterdir()):\n",
    "            print(f\"   Hora: {hour_folder.name}\")\n",
    "            for file in sorted(hour_folder.iterdir()):\n",
    "                print(f\"     - {file.name}\")\n"
   ]
  },
  {
   "cell_type": "code",
   "execution_count": 18,
   "metadata": {},
   "outputs": [],
   "source": [
    "# --- Nueva estrategia: Datalake ordenado alfabéticamente por autor ---\n",
    "import re\n",
    "\n",
    "def extract_author(header_text: str) -> str:\n",
    "    \"\"\"Busca el nombre del autor en el texto del header.\"\"\"\n",
    "    match = re.search(r\"Author:\\s*(.*)\", header_text)\n",
    "    if match:\n",
    "        author = match.group(1).strip()\n",
    "        return author if author else \"Unknown\"\n",
    "    return \"Unknown\"\n",
    "\n",
    "def download_book_alpha(book_id: int, base: str = \"datalake_alpha\"):\n",
    "    \"\"\"Descarga un libro y lo guarda en carpetas ordenadas alfabéticamente por autor.\"\"\"\n",
    "    url = f\"https://www.gutenberg.org/cache/epub/{book_id}/pg{book_id}.txt\"\n",
    "    resp = requests.get(url, timeout=30)\n",
    "    resp.raise_for_status()\n",
    "    text = resp.text\n",
    "\n",
    "    if START_MARKER not in text or END_MARKER not in text:\n",
    "        print(f\"[ERROR] Book {book_id} - markers not found\")\n",
    "        return None\n",
    "\n",
    "    header, body_and_footer = text.split(START_MARKER, 1)\n",
    "    body, _ = body_and_footer.split(END_MARKER, 1)\n",
    "\n",
    "    author = extract_author(header)\n",
    "    first_letter = author[0].upper() if author[0].isalpha() else \"Other\"\n",
    "\n",
    "    base_dir = Path(base) / first_letter\n",
    "    base_dir.mkdir(parents=True, exist_ok=True)\n",
    "\n",
    "    header_path = base_dir / f\"{book_id}.header.txt\"\n",
    "    body_path   = base_dir / f\"{book_id}.body.txt\"\n",
    "\n",
    "    header_path.write_text(header.strip(), encoding=\"utf-8\")\n",
    "    body_path.write_text(body.strip(), encoding=\"utf-8\")\n",
    "\n",
    "    print(f\"[OK] {book_id} -> saved in {base_dir}\")\n",
    "    return header_path, body_path\n"
   ]
  },
  {
   "cell_type": "code",
   "execution_count": 6,
   "metadata": {},
   "outputs": [
    {
     "name": "stdout",
     "output_type": "stream",
     "text": [
      "[OK] 1342 -> saved in datalake_alpha\\J\n",
      "[OK] 84 -> saved in datalake_alpha\\M\n",
      "[OK] 100 -> saved in datalake_alpha\\W\n",
      "[OK] 98 -> saved in datalake_alpha\\C\n",
      "[OK] 2701 -> saved in datalake_alpha\\H\n",
      "[OK] 514 -> saved in datalake_alpha\\L\n"
     ]
    },
    {
     "data": {
      "text/plain": [
       "(WindowsPath('datalake_alpha/L/514.header.txt'),\n",
       " WindowsPath('datalake_alpha/L/514.body.txt'))"
      ]
     },
     "execution_count": 6,
     "metadata": {},
     "output_type": "execute_result"
    }
   ],
   "source": [
    "#  PRUEBA: Datalake por fecha y hora\n",
    "# A - Jane Austen (ya lo tienes)\n",
    "download_book_alpha(1342)   # Pride and Prejudice\n",
    "\n",
    "# M - Mary Shelley\n",
    "download_book_alpha(84)     # Frankenstein\n",
    "\n",
    "# S - William Shakespeare\n",
    "download_book_alpha(100)    # The Complete Works of William Shakespeare\n",
    "\n",
    "# D - Charles Dickens\n",
    "download_book_alpha(98)     # A Tale of Two Cities\n",
    "\n",
    "# H - Herman Melville\n",
    "download_book_alpha(2701)   # Moby Dick\n",
    "\n",
    "# L - Louisa May Alcott\n",
    "download_book_alpha(514)    # Little Women\n"
   ]
  },
  {
   "cell_type": "code",
   "execution_count": 11,
   "metadata": {},
   "outputs": [
    {
     "name": "stdout",
     "output_type": "stream",
     "text": [
      " Catálogo de libros en datalake_alpha\n",
      "\n",
      " Autor inicial: A\n",
      "    Lincoln's Gettysburg Address  —  Abraham Lincoln\n",
      "    Abraham Lincoln's Second Inaugural Address  —  Abraham Lincoln\n",
      "    Abraham Lincoln's First Inaugural Address  —  Abraham Lincoln\n",
      "\n",
      " Autor inicial: C\n",
      "    A Tale of Two Cities  —  Charles Dickens\n",
      "\n",
      " Autor inicial: H\n",
      "    Moby Dick; Or, The Whale  —  Herman Melville\n",
      "\n",
      " Autor inicial: J\n",
      "    Pride and Prejudice  —  Jane Austen\n",
      "    John F. Kennedy's Inaugural Address  —  John F. Kennedy\n",
      "\n",
      " Autor inicial: L\n",
      "    Alice's Adventures in Wonderland  —  Lewis Carroll\n",
      "    Little Women  —  Louisa May Alcott\n",
      "\n",
      " Autor inicial: M\n",
      "    Frankenstein; Or, The Modern Prometheus  —  Mary Wollstonecraft Shelley\n",
      "\n",
      " Autor inicial: P\n",
      "    Give Me Liberty or Give Me Death  —  Patrick Henry\n",
      "\n",
      " Autor inicial: R\n",
      "    The Strange Case of Dr. Jekyll and Mr. Hyde  —  Robert Louis Stevenson\n",
      "\n",
      " Autor inicial: T\n",
      "    The Declaration of Independence of the United States of America  —  Thomas Jefferson\n",
      "\n",
      " Autor inicial: U\n",
      "    The King James Version of the Bible  —  Unknown author\n",
      "    The United States Bill of Rights  —  United States\n",
      "    The United States Constitution  —  United States\n",
      "    The Mayflower Compact  —  Unknown author\n",
      "\n",
      " Autor inicial: W\n",
      "    The Complete Works of William Shakespeare  —  William Shakespeare\n",
      "\n"
     ]
    }
   ],
   "source": [
    "#  PRUEBA: Datalake por fecha y hora\n",
    "import re\n",
    "from pathlib import Path\n",
    "\n",
    "def show_catalog(base_path=\"datalake_alpha\"):\n",
    "    base = Path(base_path)\n",
    "    print(f\" Catálogo de libros en {base_path}\\n\")\n",
    "\n",
    "    for folder in sorted(base.iterdir()):\n",
    "        if folder.is_dir():\n",
    "            print(f\" Autor inicial: {folder.name}\")\n",
    "            for file in sorted(folder.glob(\"*.header.txt\")):\n",
    "                header_text = file.read_text(encoding=\"utf-8\", errors=\"ignore\")\n",
    "                title_match = re.search(r\"Title:\\s*(.*)\", header_text)\n",
    "                author_match = re.search(r\"Author:\\s*(.*)\", header_text)\n",
    "                title = title_match.group(1).strip() if title_match else \"Unknown title\"\n",
    "                author = author_match.group(1).strip() if author_match else \"Unknown author\"\n",
    "                print(f\"    {title}  —  {author}\")\n",
    "            print()\n",
    "\n",
    "show_catalog(\"datalake_alpha\")\n",
    "\n"
   ]
  },
  {
   "cell_type": "code",
   "execution_count": 12,
   "metadata": {},
   "outputs": [
    {
     "name": "stdout",
     "output_type": "stream",
     "text": [
      " Estadísticas del Datalake Alfabético\n",
      "--------------------------------------\n",
      "Total de carpetas (autores iniciales): 11\n",
      "Total de libros almacenados: 18\n"
     ]
    }
   ],
   "source": [
    "from pathlib import Path\n",
    "\n",
    "def datalake_stats(base_path=\"datalake_alpha\"):\n",
    "    base = Path(base_path)\n",
    "    total_folders = 0\n",
    "    total_files = 0\n",
    "\n",
    "    for folder in base.iterdir():\n",
    "        if folder.is_dir():\n",
    "            total_folders += 1\n",
    "            total_files += len(list(folder.glob(\"*.body.txt\")))\n",
    "\n",
    "    print(\" Estadísticas del Datalake Alfabético\")\n",
    "    print(\"--------------------------------------\")\n",
    "    print(f\"Total de carpetas (autores iniciales): {total_folders}\")\n",
    "    print(f\"Total de libros almacenados: {total_files}\")\n",
    "\n",
    "datalake_stats(\"datalake_alpha\")\n"
   ]
  },
  {
   "cell_type": "code",
   "execution_count": 8,
   "metadata": {
    "ExecuteTime": {
     "end_time": "2025-10-04T09:04:14.796721Z",
     "start_time": "2025-10-04T09:04:14.764474Z"
    }
   },
   "outputs": [],
   "source": [
    "def register_in_control(book_id: int, header_path: Path, body_path: Path, state=\"OK\"):\n",
    "    if not LOG_CSV.exists():\n",
    "        with open(LOG_CSV, \"w\", newline=\"\", encoding=\"utf-8\") as f:\n",
    "            csv.writer(f).writerow([\"book_id\", \"date\", \"header_file\", \"body_file\", \"state\"])\n",
    "    with open(LOG_CSV, \"a\", newline=\"\", encoding=\"utf-8\") as f:\n",
    "        csv.writer(f).writerow([\n",
    "            book_id,\n",
    "            datetime.now().strftime(\"%Y-%m-%d %H:%M:%S\"),\n",
    "            str(header_path),\n",
    "            str(body_path),\n",
    "            state\n",
    "        ])\n",
    "\n",
    "    with open(DOWN_TXT, \"a\", encoding=\"utf-8\") as f:\n",
    "        f.write(f\"{book_id}\\n\")\n",
    "\n",
    "    print(f\"[CONTROL] Registrado {book_id} en control_log.csv y downloaded_books.txt\")\n",
    "\n"
   ]
  },
  {
   "cell_type": "code",
   "execution_count": 85,
   "metadata": {
    "ExecuteTime": {
     "end_time": "2025-10-04T09:04:24.029055Z",
     "start_time": "2025-10-04T09:04:19.349133Z"
    }
   },
   "outputs": [
    {
     "name": "stdout",
     "output_type": "stream",
     "text": [
      "[SKIP] 1342 was already downloaded\n",
      "[SKIP] 11 was already downloaded\n",
      "[SKIP] 84 was already downloaded\n"
     ]
    }
   ],
   "source": [
    "def download_multiple(ids: list[int]):\n",
    "    for bid in ids:\n",
    "        if already_downloaded(bid):\n",
    "            print(f\"[SKIP] {bid} was already downloaded\")\n",
    "            continue\n",
    "        res = download_book(bid)  \n",
    "        if res:\n",
    "            header_path, body_path = res\n",
    "            register_in_control(bid, header_path, body_path)  \n",
    "\n",
    "\n",
    "download_multiple([1342, 11, 84])\n"
   ]
  },
  {
   "cell_type": "markdown",
   "metadata": {},
   "source": [
    "### Converting all the characters to a lowercase text, then we delete all the alphanumeric characters.\n",
    "    "
   ]
  },
  {
   "cell_type": "code",
   "execution_count": 13,
   "metadata": {},
   "outputs": [],
   "source": [
    "DATALAKE_PATH = Path(\"datalake\")\n",
    "DATAMARTS_PATH = Path(\"datamarts\"); DATAMARTS_PATH.mkdir(exist_ok=True)\n",
    "\n",
    "def tokenize(text: str) -> list[str]:\n",
    "    text = text.lower()\n",
    "    words = re.findall(r'\\b\\w+\\b', text)\n",
    "    return words"
   ]
  },
  {
   "cell_type": "markdown",
   "metadata": {},
   "source": [
    "### Strategy 1. Saving the data in datamarts/ as a JSON file"
   ]
  },
  {
   "cell_type": "code",
   "execution_count": 14,
   "metadata": {
    "ExecuteTime": {
     "end_time": "2025-10-04T11:19:19.093051Z",
     "start_time": "2025-10-04T11:19:19.082470Z"
    }
   },
   "outputs": [],
   "source": [
    "\n",
    "def build_inverted_index1() -> dict[str, set[int]]:\n",
    "    inverted_index = defaultdict(set)\n",
    "    for body_file in DATALAKE_PATH.rglob(\"*.body.txt\"):\n",
    "        book_id = int(body_file.stem.split(\".\")[0])   \n",
    "        text = body_file.read_text(encoding=\"utf-8\")\n",
    "        words = tokenize(text)\n",
    "        for word in words:\n",
    "            inverted_index[word].add(book_id)\n",
    "    return inverted_index\n",
    "\n",
    "\n",
    "def save_inverted_index(index: dict[str, set[int]]):\n",
    "    \n",
    "    json_path = DATAMARTS_PATH / \"inverted_index.json\"\n",
    "    serializable_index = {word: list(ids) for word, ids in index.items()}\n",
    "    with open(json_path, \"w\", encoding=\"utf-8\") as f:\n",
    "        json.dump(serializable_index, f, ensure_ascii=False, indent=2)\n",
    "    print(f\"[OK] Inverted index saved at {json_path}\")\n"
   ]
  },
  {
   "cell_type": "markdown",
   "metadata": {},
   "source": [
    "### strategy 2. Saving the data as a txt file"
   ]
  },
  {
   "cell_type": "code",
   "execution_count": 15,
   "metadata": {
    "ExecuteTime": {
     "end_time": "2025-10-04T11:19:21.690877Z",
     "start_time": "2025-10-04T11:19:21.683246Z"
    }
   },
   "outputs": [],
   "source": [
    "def build_inverted_index2() -> dict[str, set[int]]:\n",
    "    inverted_index = defaultdict(set)\n",
    "    for body_file in DATALAKE_PATH.rglob(\"*.body.txt\"):\n",
    "        book_id = int(body_file.stem.split(\".\")[0])   \n",
    "        text = body_file.read_text(encoding=\"utf-8\")\n",
    "        words = tokenize(text)\n",
    "        for word in words:\n",
    "            inverted_index[word].add(book_id)\n",
    "    return inverted_index\n",
    "\n",
    "def save_inverted_index_txt(index: dict[str, set[int]]):\n",
    "    txt_path = DATAMARTS_PATH / \"inverted_index.txt\"\n",
    "    with open(txt_path, \"w\", encoding=\"utf-8\") as f:\n",
    "        for word, ids in sorted(index.items()):\n",
    "            ids_str = \",\".join(map(str, sorted(ids)))\n",
    "            f.write(f\"{word}: {ids_str}\\n\")\n",
    "    print(f\"[OK] Inverted index saved at {txt_path}\")"
   ]
  },
  {
   "cell_type": "markdown",
   "metadata": {},
   "source": [
    "### Main execution with different types of strategies "
   ]
  },
  {
   "cell_type": "code",
   "execution_count": 20,
   "metadata": {
    "ExecuteTime": {
     "end_time": "2025-10-04T11:51:58.072211Z",
     "start_time": "2025-10-04T11:51:57.511994Z"
    }
   },
   "outputs": [
    {
     "name": "stdout",
     "output_type": "stream",
     "text": [
      "[SKIP] 43 was already downloaded\n",
      "[SKIP] 56 was already downloaded\n",
      "[OK] Inverted index saved at datamarts\\inverted_index.json\n",
      "Results for 'love': {514, 2701, 1342}\n",
      "[OK] Inverted index strategy 1\n",
      "Strategy 1 time '1.1468493938446045'\n",
      "[OK] Inverted index saved at datamarts\\inverted_index.txt\n",
      "Results for 'love' [txt search]: {514, 2701, 1342}\n",
      "[OK] Inverted index strategy 2\n",
      "Strategy 2 time '0.6323657035827637'\n"
     ]
    },
    {
     "data": {
      "image/png": "[encoded data removed]",
      "text/plain": [
       "<Figure size 640x480 with 1 Axes>"
      ]
     },
     "metadata": {},
     "output_type": "display_data"
    }
   ],
   "source": [
    "if __name__ == \"__main__\":\n",
    "\n",
    "    book_ids = [43, 56]\n",
    "\n",
    "    for book_id in book_ids:\n",
    "        if already_downloaded(book_id):   \n",
    "            print(f\"[SKIP] {book_id} was already downloaded\")\n",
    "            continue\n",
    "\n",
    "        try:\n",
    "            res = download_book(book_id)\n",
    "            if res:\n",
    "                header_file, body_file = res\n",
    "                register_in_control(book_id, header_file, body_file)\n",
    "            else:\n",
    "                register_in_control(book_id, \"-\", \"-\", state=\"FAILED\")\n",
    "        except Exception as e:\n",
    "            print(f\"[ERROR] Failed downloading {book_id}: {e}\")\n",
    "            register_in_control(book_id, \"-\", \"-\", state=\"FAILED\")\n",
    "    word = \"love\"\n",
    "    start = time.time()\n",
    "    inverted_index_strategy1 = build_inverted_index1()\n",
    "    save_inverted_index(inverted_index_strategy1)\n",
    "    results = inverted_index_strategy1.get(word.lower(), set())\n",
    "    end = time.time()\n",
    "    result_strategy_1 = end - start\n",
    "    print(f\"Results for '{word}': {results}\")\n",
    "    print(\"[OK] Inverted index strategy 1\")\n",
    "    print(f\"Strategy 1 time '{result_strategy_1}'\")\n",
    "    \n",
    "    start2= time.time()\n",
    "    inverted_index_strategy2 = build_inverted_index2()\n",
    "    save_inverted_index_txt(inverted_index_strategy2)\n",
    "    txt_path = DATAMARTS_PATH / \"inverted_index.txt\"\n",
    "    results2 = set()\n",
    "    with open(txt_path, \"r\", encoding=\"utf-8\") as f:\n",
    "        for line in f:\n",
    "            if line.startswith(f\"{word.lower()}:\"):\n",
    "                ids_str = line.split(\":\")[1].strip()\n",
    "                results2 = set(map(int, ids_str.split(\",\"))) if ids_str else set()\n",
    "                break\n",
    "\n",
    "    print(f\"Results for '{word}' [txt search]: {results2}\")\n",
    "    end2 = time.time()\n",
    "    result_strategy_2 = end2 - start2\n",
    "    print(\"[OK] Inverted index strategy 2\")\n",
    "    print(f\"Strategy 2 time '{result_strategy_2}'\")\n",
    "\n",
    "    plt.bar([\"Json\", \"Txt\"] , [result_strategy_1, result_strategy_2], color=[\"blue\", \"red\"])\n",
    "    "
   ]
  },
  {
   "cell_type": "markdown",
   "metadata": {},
   "source": [
    "# Compare index construction time"
   ]
  },
  {
   "cell_type": "code",
   "execution_count": 21,
   "metadata": {},
   "outputs": [
    {
     "name": "stdout",
     "output_type": "stream",
     "text": [
      "Strategy JSON build time: 0.49 sec\n",
      "Strategy TXT build time: 0.50 sec\n"
     ]
    }
   ],
   "source": [
    "start = time.time()\n",
    "inverted_index_json = build_inverted_index1()\n",
    "end = time.time()\n",
    "print(f\"Strategy JSON build time: {end - start:.2f} sec\")\n",
    "start = time.time()\n",
    "inverted_index_txt = build_inverted_index2()\n",
    "end = time.time()\n",
    "print(f\"Strategy TXT build time: {end - start:.2f} sec\")"
   ]
  },
  {
   "cell_type": "markdown",
   "metadata": {},
   "source": [
    "# Compare search time"
   ]
  },
  {
   "cell_type": "code",
   "execution_count": 22,
   "metadata": {},
   "outputs": [
    {
     "name": "stdout",
     "output_type": "stream",
     "text": [
      "JSON search time: 0.0001 sec\n",
      "TXT search time: 0.0577 sec\n"
     ]
    }
   ],
   "source": [
    "queries = [\"love\", \"pride\", \"her\", \"mind\"]\n",
    "\n",
    "\n",
    "# JSON strategy\n",
    "start = time.time()\n",
    "for q in queries:\n",
    "    results = inverted_index_json.get(q.lower(), set())\n",
    "end = time.time()\n",
    "print(f\"JSON search time: {end - start:.4f} sec\")\n",
    "\n",
    "\n",
    "# TXT strategy\n",
    "start = time.time()\n",
    "txt_path = DATAMARTS_PATH / \"inverted_index.txt\"\n",
    "for q in queries:\n",
    "    results_txt = set()\n",
    "    with open(txt_path, \"r\", encoding=\"utf-8\") as f:\n",
    "        for line in f:\n",
    "            if line.startswith(f\"{q.lower()}:\"):\n",
    "                ids_str = line.split(\":\")[1].strip()\n",
    "                results_txt = set(map(int, ids_str.split(\",\"))) if ids_str else set()\n",
    "                break\n",
    "end = time.time()\n",
    "print(f\"TXT search time: {end - start:.4f} sec\")"
   ]
  },
  {
   "cell_type": "markdown",
   "metadata": {},
   "source": [
    "# Compare memory usage"
   ]
  },
  {
   "cell_type": "code",
   "execution_count": 24,
   "metadata": {},
   "outputs": [
    {
     "name": "stdout",
     "output_type": "stream",
     "text": [
      "JSON index memory size: 938.76 KB\n",
      "TXT index memory size: 938.76 KB\n"
     ]
    }
   ],
   "source": [
    "size_json = sys.getsizeof(inverted_index_json)\n",
    "print(f\"JSON index memory size: {size_json / 1024:.2f} KB\")\n",
    "\n",
    "\n",
    "size_txt = sys.getsizeof(inverted_index_txt)\n",
    "print(f\"TXT index memory size: {size_txt / 1024:.2f} KB\")"
   ]
  },
  {
   "cell_type": "markdown",
   "metadata": {},
   "source": [
    "# Compare disc size"
   ]
  },
  {
   "cell_type": "code",
   "execution_count": 25,
   "metadata": {},
   "outputs": [
    {
     "name": "stdout",
     "output_type": "stream",
     "text": [
      "JSON file size: 859.04 KB\n",
      "TXT file size: 401.10 KB\n"
     ]
    }
   ],
   "source": [
    "json_file = DATAMARTS_PATH / \"inverted_index.json\"\n",
    "txt_file  = DATAMARTS_PATH / \"inverted_index.txt\"\n",
    "\n",
    "\n",
    "print(f\"JSON file size: {json_file.stat().st_size / 1024:.2f} KB\")\n",
    "print(f\"TXT file size: {txt_file.stat().st_size / 1024:.2f} KB\")"
   ]
  },
  {
   "cell_type": "code",
   "execution_count": 13,
   "metadata": {},
   "outputs": [
    {
     "name": "stdout",
     "output_type": "stream",
     "text": [
      "[SKIP] 43 was already downloaded\n",
      "[SKIP] 84 was already downloaded\n",
      "[SKIP] 98 was already downloaded\n",
      "[OK] 1342 -> datalake\\20251006\\15\\1342.header.txt / datalake\\20251006\\15\\1342.body.txt\n",
      "[OK] 2701 -> datalake\\20251006\\15\\2701.header.txt / datalake\\20251006\\15\\2701.body.txt\n",
      "[OK] 514 -> datalake\\20251006\\15\\514.header.txt / datalake\\20251006\\15\\514.body.txt\n",
      "[OK] 43 -> saved in datalake_alpha\\R\n",
      "[OK] 84 -> saved in datalake_alpha\\M\n",
      "[OK] 98 -> saved in datalake_alpha\\C\n",
      "[OK] 1342 -> saved in datalake_alpha\\J\n",
      "[OK] 2701 -> saved in datalake_alpha\\H\n",
      "[OK] 514 -> saved in datalake_alpha\\L\n",
      " COMPARACIÓN DE DATALAKES\n",
      "----------------------------\n",
      "Por fecha/hora:  2 carpetas, 6 archivos, 7.611 s\n",
      "Por autor:       7 carpetas, 14 archivos, 45.224 s\n"
     ]
    },
    {
     "data": {
      "image/png": "[encoded data removed]",
      "text/plain": [
       "<Figure size 640x480 with 1 Axes>"
      ]
     },
     "metadata": {},
     "output_type": "display_data"
    }
   ],
   "source": [
    "# --- COMPARACIÓN DE ESTRATEGIAS DEL DATALAKE (FECHA/HORA vs AUTOR) ---\n",
    "\n",
    "import os\n",
    "import time\n",
    "import matplotlib.pyplot as plt\n",
    "\n",
    "def count_files_and_folders(base_path: str):\n",
    "    \"\"\"Cuenta cuántas carpetas y archivos hay dentro de un datalake.\"\"\"\n",
    "    total_files = 0\n",
    "    total_dirs = 0\n",
    "    for root, dirs, files in os.walk(base_path):\n",
    "        total_files += len(files)\n",
    "        total_dirs += len(dirs)\n",
    "    return total_dirs, total_files\n",
    "\n",
    "def compare_datalakes(book_ids):\n",
    "    \"\"\"Compara la organización por fecha/hora y por inicial del autor.\"\"\"\n",
    "    \n",
    "    # --- DATALAKE 1: por fecha y hora ---\n",
    "    start1 = time.time()\n",
    "    for book_id in book_ids:\n",
    "        download_book(book_id)\n",
    "    end1 = time.time()\n",
    "    time_date = end1 - start1\n",
    "    dirs1, files1 = count_files_and_folders(\"datalake\")\n",
    "\n",
    "    # --- DATALAKE 2: por inicial del autor ---\n",
    "    start2 = time.time()\n",
    "    for book_id in book_ids:\n",
    "        download_book_alpha(book_id)\n",
    "    end2 = time.time()\n",
    "    time_alpha = end2 - start2\n",
    "    dirs2, files2 = count_files_and_folders(\"datalake_alpha\")\n",
    "\n",
    "    # --- RESULTADOS ---\n",
    "    print(\" COMPARACIÓN DE DATALAKES\")\n",
    "    print(\"----------------------------\")\n",
    "    print(f\"Por fecha/hora:  {dirs1} carpetas, {files1} archivos, {time_date:.3f} s\")\n",
    "    print(f\"Por autor:       {dirs2} carpetas, {files2} archivos, {time_alpha:.3f} s\")\n",
    "\n",
    "    plt.bar([\"Fecha/Hora\", \"Autor\"], [time_date, time_alpha], color=[\"orange\", \"purple\"])\n",
    "    plt.ylabel(\"Tiempo (s)\")\n",
    "    plt.title(\"Comparación de estrategias del Datalake\")\n",
    "    plt.show()\n",
    "\n",
    "# Ejecutar la comparación con algunos libros\n",
    "compare_datalakes([43, 84, 98, 1342, 2701, 514])\n"
   ]
  },
  {
   "cell_type": "code",
   "execution_count": null,
   "metadata": {},
   "outputs": [],
   "source": [
    "for book_id in range(1, 328):\n",
    "    try:\n",
    "        download_book_alpha(book_id)  \n",
    "    except Exception as e:\n",
    "        print(f\"[ERROR] Libro {book_id}: {e}\")\n"
   ]
  },
  {
   "cell_type": "code",
   "execution_count": null,
   "metadata": {
    "ExecuteTime": {
     "end_time": "2025-10-07T08:23:58.788424Z",
     "start_time": "2025-10-07T08:23:58.644696Z"
    }
   },
   "outputs": [
    {
     "name": "stdout",
     "output_type": "stream",
     "text": [
      "=== METADATA BENCHMARK ===\n",
      "SQLite - Insert: 0.0087s | Query: 0.000461s | Rows: 1\n",
      "TinyDB - Insert: 0.0054s | Query: 0.001704s | Rows: 1\n",
      "Files → datamarts/metadata_sqlite.db | datamarts/metadata_tinydb.json\n"
     ]
    },
    {
     "data": {
      "image/png": "[encoded data removed]",
      "text/plain": [
       "<Figure size 640x480 with 1 Axes>"
      ]
     },
     "metadata": {},
     "output_type": "display_data"
    },
    {
     "data": {
      "image/png": "[encoded data removed]",
      "text/plain": [
       "<Figure size 640x480 with 1 Axes>"
      ]
     },
     "metadata": {},
     "output_type": "display_data"
    }
   ],
   "source": [
    "import sqlite3, random, time, os, json\n",
    "from tinydb import TinyDB, Query\n",
    "import matplotlib.pyplot as plt\n",
    "\n",
    "# --- Carpeta para datamarts ---\n",
    "os.makedirs(\"datamarts\", exist_ok=True)\n",
    "\n",
    "# 1) Datos simulados (reproducibles)\n",
    "random.seed(42)\n",
    "sample_metadata = [\n",
    "    {\n",
    "        \"book_id\": i,\n",
    "        \"title\": f\"Book Title {i}\",\n",
    "        \"author\": random.choice([\"Jane Austen\", \"Mark Twain\", \"Daniel Defoe\", \"Charles Dickens\"]),\n",
    "        \"language\": random.choice([\"en\", \"es\", \"fr\"]),\n",
    "    }\n",
    "    for i in range(1, 301)\n",
    "]\n",
    "\n",
    "# 2) SQLite benchmark\n",
    "def test_sqlite(metadata_list):\n",
    "    # Usa fichero dentro de datamarts/\n",
    "    db_path = \"datamarts/metadata_sqlite.db\"\n",
    "    conn = sqlite3.connect(db_path)\n",
    "    cur = conn.cursor()\n",
    "\n",
    "    # Tabla y (opcional) índice por título\n",
    "    cur.execute(\"\"\"\n",
    "        CREATE TABLE IF NOT EXISTS books (\n",
    "            book_id INTEGER PRIMARY KEY,\n",
    "            title TEXT,\n",
    "            author TEXT,\n",
    "            language TEXT\n",
    "        )\n",
    "    \"\"\")\n",
    "    # Limpieza para que la inserción mida en limpio\n",
    "    cur.execute(\"DELETE FROM books\")\n",
    "    conn.commit()\n",
    "\n",
    "    # Inserción en bloque\n",
    "    t0 = time.time()\n",
    "    cur.executemany(\n",
    "        \"INSERT INTO books (book_id, title, author, language) VALUES (:book_id, :title, :author, :language)\",\n",
    "        metadata_list\n",
    "    )\n",
    "    conn.commit()\n",
    "    t1 = time.time()\n",
    "\n",
    "    # Consulta por título (exact match)\n",
    "    search_title = \"Book Title 150\"\n",
    "    q0 = time.time()\n",
    "    cur.execute(\"SELECT * FROM books WHERE title = ?\", (search_title,))\n",
    "    rows = cur.fetchall()\n",
    "    q1 = time.time()\n",
    "\n",
    "    conn.close()\n",
    "\n",
    "    return {\n",
    "        \"insert_time\": t1 - t0,\n",
    "        \"query_time\": q1 - q0,\n",
    "        \"query_results\": len(rows),\n",
    "        \"db_path\": db_path\n",
    "    }\n",
    "\n",
    "# 3) TinyDB benchmark\n",
    "def test_tinydb(metadata_list):\n",
    "    # Fichero dentro de datamarts/\n",
    "    tiny_path = \"datamarts/metadata_tinydb.json\"\n",
    "    db = TinyDB(tiny_path)\n",
    "    db.drop_tables()  # limpia base previa\n",
    "\n",
    "    t0 = time.time()\n",
    "    db.insert_multiple(metadata_list)\n",
    "    t1 = time.time()\n",
    "\n",
    "    search_title = \"Book Title 150\"\n",
    "    q = Query()\n",
    "    q0 = time.time()\n",
    "    rows = db.search(q.title == search_title)\n",
    "    q1 = time.time()\n",
    "    db.close()\n",
    "\n",
    "    return {\n",
    "        \"insert_time\": t1 - t0,\n",
    "        \"query_time\": q1 - q0,\n",
    "        \"query_results\": len(rows),\n",
    "        \"db_path\": tiny_path\n",
    "    }\n",
    "\n",
    "# 4) Ejecutar y comparar\n",
    "sqlite_results = test_sqlite(sample_metadata)\n",
    "tinydb_results = test_tinydb(sample_metadata)\n",
    "\n",
    "print(\"=== METADATA BENCHMARK ===\")\n",
    "print(f\"SQLite - Insert: {sqlite_results['insert_time']:.4f}s | Query: {sqlite_results['query_time']:.6f}s | Rows: {sqlite_results['query_results']}\")\n",
    "print(f\"TinyDB - Insert: {tinydb_results['insert_time']:.4f}s | Query: {tinydb_results['query_time']:.6f}s | Rows: {tinydb_results['query_results']}\")\n",
    "print(f\"Files → {sqlite_results['db_path']} | {tinydb_results['db_path']}\")\n",
    "\n",
    "# 5) Gráfica simple (inserción y consulta)\n",
    "labels = [\"SQLite\", \"TinyDB\"]\n",
    "insert_times = [sqlite_results[\"insert_time\"], tinydb_results[\"insert_time\"]]\n",
    "query_times  = [sqlite_results[\"query_time\"],  tinydb_results[\"query_time\"]]\n",
    "\n",
    "plt.title(\"Insert time\")\n",
    "plt.bar(labels, insert_times, color = [\"red\", \"blue\"])\n",
    "plt.show()\n",
    "\n",
    "plt.title(\"Query time\")\n",
    "plt.bar(labels, query_times, color = [\"red\", \"blue\"])\n",
    "plt.show()"
   ]
  }
 ],
 "metadata": {
  "kernelspec": {
   "display_name": "gabriel-env",
   "language": "python",
   "name": "python3"
  },
  "language_info": {
   "codemirror_mode": {
    "name": "ipython",
    "version": 3
   },
   "file_extension": ".py",
   "mimetype": "text/x-python",
   "name": "python",
   "nbconvert_exporter": "python",
   "pygments_lexer": "ipython3",
   "version": "3.13.2"
  }
 },
 "nbformat": 4,
 "nbformat_minor": 2
}
